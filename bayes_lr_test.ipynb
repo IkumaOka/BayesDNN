{
 "cells": [
  {
   "cell_type": "code",
   "execution_count": 1,
   "metadata": {},
   "outputs": [],
   "source": [
    "import numpy as np"
   ]
  },
  {
   "cell_type": "code",
   "execution_count": 2,
   "metadata": {},
   "outputs": [
    {
     "data": {
      "text/plain": [
       "2"
      ]
     },
     "execution_count": 2,
     "metadata": {},
     "output_type": "execute_result"
    }
   ],
   "source": [
    "a = np.array([[1, 2, 3], [4, 5, 6]])\n",
    "y = np.array([4, 5])\n",
    "len_data, ndim = a.shape\n",
    "len_data"
   ]
  },
  {
   "cell_type": "code",
   "execution_count": 61,
   "metadata": {},
   "outputs": [
    {
     "data": {
      "text/plain": [
       "array([[[  1.,   8.,  27.],\n",
       "        [ 64., 125., 216.]],\n",
       "\n",
       "       [[  1.,   4.,   9.],\n",
       "        [ 16.,  25.,  36.]],\n",
       "\n",
       "       [[  1.,   2.,   3.],\n",
       "        [  4.,   5.,   6.]],\n",
       "\n",
       "       [[  1.,   1.,   1.],\n",
       "        [  1.,   1.,   1.]]])"
      ]
     },
     "execution_count": 61,
     "metadata": {},
     "output_type": "execute_result"
    }
   ],
   "source": [
    "# 特徴量関数\n",
    "b = np.array([a**3, a**2, a, np.ones((len_data, ndim))])\n",
    "b[:, 0, :]\n",
    "b"
   ]
  },
  {
   "cell_type": "code",
   "execution_count": 30,
   "metadata": {},
   "outputs": [
    {
     "data": {
      "text/plain": [
       "array([[  794.,  6896.],\n",
       "       [ 6896., 66377.]])"
      ]
     },
     "execution_count": 30,
     "metadata": {},
     "output_type": "execute_result"
    }
   ],
   "source": [
    "np.dot(b[0],  b[0].T)"
   ]
  },
  {
   "cell_type": "code",
   "execution_count": 13,
   "metadata": {},
   "outputs": [
    {
     "data": {
      "text/plain": [
       "array([[  4.,  32., 108.],\n",
       "       [  4.,  16.,  36.],\n",
       "       [  4.,   8.,  12.],\n",
       "       [  4.,   4.,   4.]])"
      ]
     },
     "execution_count": 13,
     "metadata": {},
     "output_type": "execute_result"
    }
   ],
   "source": [
    "b[:, 0, :] * y[0]"
   ]
  },
  {
   "cell_type": "code",
   "execution_count": 39,
   "metadata": {},
   "outputs": [
    {
     "data": {
      "text/plain": [
       "array([[[7.9400e+02, 2.7600e+02, 9.8000e+01, 3.6000e+01],\n",
       "        [2.7600e+02, 9.8000e+01, 3.6000e+01, 1.4000e+01],\n",
       "        [9.8000e+01, 3.6000e+01, 1.4000e+01, 6.0000e+00],\n",
       "        [3.6000e+01, 1.4000e+01, 6.0000e+00, 3.0000e+00]],\n",
       "\n",
       "       [[6.6377e+04, 1.1925e+04, 2.1770e+03, 4.0500e+02],\n",
       "        [1.1925e+04, 2.1770e+03, 4.0500e+02, 7.7000e+01],\n",
       "        [2.1770e+03, 4.0500e+02, 7.7000e+01, 1.5000e+01],\n",
       "        [4.0500e+02, 7.7000e+01, 1.5000e+01, 3.0000e+00]]])"
      ]
     },
     "execution_count": 39,
     "metadata": {},
     "output_type": "execute_result"
    }
   ],
   "source": [
    "c = np.array([np.dot(b[:, i, :], b[:, i, :].T) for i in range(len_data)])\n",
    "c"
   ]
  },
  {
   "cell_type": "code",
   "execution_count": 42,
   "metadata": {},
   "outputs": [
    {
     "data": {
      "text/plain": [
       "array([[6.7171e+04, 1.2201e+04, 2.2750e+03, 4.4100e+02],\n",
       "       [1.2201e+04, 2.2750e+03, 4.4100e+02, 9.1000e+01],\n",
       "       [2.2750e+03, 4.4100e+02, 9.1000e+01, 2.1000e+01],\n",
       "       [4.4100e+02, 9.1000e+01, 2.1000e+01, 6.0000e+00]])"
      ]
     },
     "execution_count": 42,
     "metadata": {},
     "output_type": "execute_result"
    }
   ],
   "source": [
    "c.sum(axis=0)"
   ]
  },
  {
   "cell_type": "code",
   "execution_count": 43,
   "metadata": {},
   "outputs": [],
   "source": [
    "sigma_y = 1.0\n",
    "sigma_w = 1.0"
   ]
  },
  {
   "cell_type": "code",
   "execution_count": 48,
   "metadata": {},
   "outputs": [],
   "source": [
    "inv_sigma = sigma_y**(-2) * c.sum(axis=0) + sigma_w**(-2) * np.eye(4)"
   ]
  },
  {
   "cell_type": "code",
   "execution_count": 49,
   "metadata": {},
   "outputs": [
    {
     "data": {
      "text/plain": [
       "array([[ 0.00180498, -0.01436289,  0.02395271,  0.00114598],\n",
       "       [-0.01436289,  0.1226412 , -0.23897408,  0.02744884],\n",
       "       [ 0.02395271, -0.23897408,  0.63257481, -0.30008186],\n",
       "       [ 0.00114598,  0.02744884, -0.30008186,  0.61407133]])"
      ]
     },
     "execution_count": 49,
     "metadata": {},
     "output_type": "execute_result"
    }
   ],
   "source": [
    "sigma = np.linalg.inv(inv_sigma)\n",
    "sigma"
   ]
  },
  {
   "cell_type": "code",
   "execution_count": 69,
   "metadata": {},
   "outputs": [
    {
     "data": {
      "text/plain": [
       "array([[-0.03649191, -0.03854531,  0.05825453],\n",
       "       [ 0.15994543,  0.21688404, -0.3624884 ],\n",
       "       [ 0.16791269,  0.21581446,  0.70481855],\n",
       "       [ 1.00167609,  0.24713311,  0.2135724 ]])"
      ]
     },
     "execution_count": 69,
     "metadata": {},
     "output_type": "execute_result"
    }
   ],
   "source": [
    "# y_nとphi_(x_n)の積を計算\n",
    "v = np.array([y[i] * b[:, i, :] for i in range(len_data)])\n",
    "# 事後分布の平均パラメータの更新\n",
    "mu = np.dot(sigma, sigma_y**(-2) * (v.sum(axis=0)))\n",
    "mu"
   ]
  }
 ],
 "metadata": {
  "kernelspec": {
   "display_name": "Python 3",
   "language": "python",
   "name": "python3"
  },
  "language_info": {
   "codemirror_mode": {
    "name": "ipython",
    "version": 3
   },
   "file_extension": ".py",
   "mimetype": "text/x-python",
   "name": "python",
   "nbconvert_exporter": "python",
   "pygments_lexer": "ipython3",
   "version": "3.7.4"
  }
 },
 "nbformat": 4,
 "nbformat_minor": 2
}
